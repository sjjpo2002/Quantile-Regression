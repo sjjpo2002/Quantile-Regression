{
 "cells": [
  {
   "cell_type": "markdown",
   "metadata": {},
   "source": [
    "### Quantile Regression"
   ]
  },
  {
   "cell_type": "markdown",
   "metadata": {},
   "source": [
    "<I>Quantile regression is a type of regression analysis used in statistics and econometrics. Whereas the method of least squares results in estimates that approximate the conditional mean of the response variable given certain values of the predictor variables, quantile regression aims at estimating either the conditional median or other quantiles of the response variable</I>. ([Wikipedia](https://en.wikipedia.org/wiki/Quantile_regression))\n",
    "\n",
    "The most popular form of this regression is where we aim for median or 50th quantile. The problem then boils down to a convex optimization problem with the cost function in the form of [Least absolute deviations](https://en.wikipedia.org/wiki/Least_absolute_deviations). I came across a question lately, asking to solve this problem for a special case of a linear function without any bias (fixed term). The question itself and the solution are discussed here. "
   ]
  },
  {
   "cell_type": "markdown",
   "metadata": {},
   "source": [
    "### Question"
   ]
  },
  {
   "cell_type": "markdown",
   "metadata": {},
   "source": [
    "<B> Given two vectors X and Y in $R^n$, please implement an algorithm to compute a scalar beta that minimizes \n",
    " \n",
    " $\\| beta * X - Y \\|_1    $\n",
    " \n",
    " and explain its complexity. </B>"
   ]
  },
  {
   "cell_type": "markdown",
   "metadata": {},
   "source": [
    "This is a piecewise-linear optimization problem that arises in regression modeling, signal processing and some other applications. This optimization problem can be solved by Linear Programming methods. But since the question asks for not using any solver or known methods we will use simple properties of convex piecewise-linear nature of the problem to find the minimum. Here are the highlights of the approach used to solve this problem:"
   ]
  },
  {
   "cell_type": "markdown",
   "metadata": {},
   "source": [
    "* The calculations are done in Python 2.7 using numpy package\n",
    "* This problem doesn't have unique solution in some scenarios but the minimum norm can be found\n",
    "* Since we know it is a convex piecewise-linear optimization we know that the minimum happens on Vertices\n",
    "* We also know that for Least Absolute Deviations problem the answer converges to the median of roots (Vertices)\n",
    "* The algorithm proposed calculates all the roots (Vertices) and finds the Vertex for which norm is the lowest\n",
    "* Only vertices around median are processed (2 vertices if $n$ is even, 3 vertices if $n$ is odd)"
   ]
  },
  {
   "cell_type": "markdown",
   "metadata": {},
   "source": [
    "Complexity of this algorithm is $nlog(n)$"
   ]
  },
  {
   "cell_type": "markdown",
   "metadata": {},
   "source": [
    "This is because we have to sort the $n$ vertices to find the median"
   ]
  },
  {
   "cell_type": "code",
   "execution_count": 12,
   "metadata": {
    "collapsed": true
   },
   "outputs": [],
   "source": [
    "import numpy as np\n",
    "from numpy.linalg import norm\n",
    "from numpy.testing import assert_allclose\n",
    "import matplotlib.pyplot as plt\n",
    "%matplotlib inline"
   ]
  },
  {
   "cell_type": "code",
   "execution_count": 13,
   "metadata": {
    "collapsed": true
   },
   "outputs": [],
   "source": [
    "def around_median(samples):\n",
    "    samples = np.unique(samples) # sort unique elements\n",
    "    length = len(samples)\n",
    "    if length < 4:\n",
    "        return samples\n",
    "    else:\n",
    "        if length % 2 == 0:  # even \n",
    "            return samples[length/2-1:length/2+1]\n",
    "        else: # odd\n",
    "            return samples[length/2-1:length/2+2]\n",
    "\n",
    "def find_min(X, Y):\n",
    "    current = np.inf\n",
    "    best = None\n",
    "    candidates = around_median(np.divide(Y, X))\n",
    "    for item in candidates:\n",
    "        L1 = norm(item*X-Y, ord=1)\n",
    "        if L1 < current:\n",
    "            best = item\n",
    "            current = L1\n",
    "    return best"
   ]
  },
  {
   "cell_type": "markdown",
   "metadata": {
    "collapsed": true
   },
   "source": [
    "Too test the proposed method we run the code for few test cases. If there is a optimum value it will be returned by find_min() otherwise it will return None. Don't throw empty vectors at it cuz None is what you will get!"
   ]
  },
  {
   "cell_type": "markdown",
   "metadata": {},
   "source": [
    "#### Testcase 1"
   ]
  },
  {
   "cell_type": "markdown",
   "metadata": {},
   "source": [
    "In this test we supply uniformly distributed random numbers with $n=11$ as an odd number"
   ]
  },
  {
   "cell_type": "code",
   "execution_count": 14,
   "metadata": {
    "collapsed": false
   },
   "outputs": [
    {
     "name": "stdout",
     "output_type": "stream",
     "text": [
      "\n",
      "\n",
      "Minimum norm is  627.026968432 Which happens for betha =  -0.232565869666\n",
      "\n",
      "PASSED: the answer has less than 1% error\n",
      "627.026968432 is approximately equal to expected 627.026968432\n"
     ]
    }
   ],
   "source": [
    "# Test Case1    ** Odd number of samples **\n",
    "X1 = np.random.uniform(-100.0, 100, 11)\n",
    "Y1 = np.random.uniform(-100.0, 100, 11)\n",
    "optimum = find_min(X1, Y1)\n",
    "lowest_norm = norm(optimum*X1-Y1, ord=1)\n",
    "print \"\\n\\nMinimum norm is \", lowest_norm, \"Which happens for betha = \", optimum\n",
    "try:\n",
    "    expected = min([norm(item*X1-Y1, ord=1) for item in np.divide(Y1, X1)])\n",
    "    assert_allclose(lowest_norm, expected, 0.01)\n",
    "    print \"\\nPASSED: the answer has less than 1% error\"\n",
    "    print \"{} is approximately equal to expected {}\".format(lowest_norm, expected)\n",
    "\n",
    "except AssertionError:\n",
    "    print \"\\nFAILED: the error is more than 1%\"\n",
    "    print \"found {} but was expecting {}\".format(lowest_norm, expected)"
   ]
  },
  {
   "cell_type": "markdown",
   "metadata": {},
   "source": [
    "#### Testcase 2"
   ]
  },
  {
   "cell_type": "markdown",
   "metadata": {},
   "source": [
    "In this test we supply uniformly distributed random numbers with $n=222$ as an even number"
   ]
  },
  {
   "cell_type": "code",
   "execution_count": 25,
   "metadata": {
    "collapsed": false
   },
   "outputs": [
    {
     "name": "stdout",
     "output_type": "stream",
     "text": [
      "\n",
      "\n",
      "Minimum norm is  1169.09365168 Which happens for betha =  0.216295171636\n",
      "\n",
      "PASSED: the answer has less than 1% error\n",
      "1169.09365168 is approximately equal to expected 1169.09365168\n"
     ]
    }
   ],
   "source": [
    "# Test Case2    ** Even number of samples **\n",
    "X2 = np.random.uniform(-100.0, 100, 22)\n",
    "Y2 = np.random.uniform(-100.0, 100, 22)\n",
    "optimum = find_min(X2, Y2)\n",
    "lowest_norm = norm(optimum*X2-Y2, ord=1)\n",
    "print \"\\n\\nMinimum norm is \", lowest_norm, \"Which happens for betha = \", optimum\n",
    "try:\n",
    "    expected = min([norm(item*X2-Y2, ord=1) for item in np.divide(Y2, X2)])\n",
    "    assert_allclose(lowest_norm, expected, 0.01)\n",
    "    print \"\\nPASSED: the answer has less than 1% error\"\n",
    "    print \"{} is approximately equal to expected {}\".format(lowest_norm, expected)\n",
    "\n",
    "except AssertionError:\n",
    "    print \"\\nFAILED: the error is more than 1%\"\n",
    "    print \"found {} but was expecting {}\".format(lowest_norm, expected)"
   ]
  },
  {
   "cell_type": "markdown",
   "metadata": {},
   "source": [
    "#### Testcase 3"
   ]
  },
  {
   "cell_type": "markdown",
   "metadata": {},
   "source": [
    "In this test we supply uniformly distributed random numbers with some roots that happen to be the same"
   ]
  },
  {
   "cell_type": "code",
   "execution_count": 16,
   "metadata": {
    "collapsed": false
   },
   "outputs": [
    {
     "name": "stdout",
     "output_type": "stream",
     "text": [
      "\n",
      "\n",
      "Minimum norm is  1090.52047116 Which happens for betha =  0.0956563372043\n",
      "\n",
      "PASSED: the answer has less than 1% error\n",
      "1090.52047116 is approximately equal to expected 1090.52047116\n"
     ]
    }
   ],
   "source": [
    "# Test Case3    ** Some roots are equal**\n",
    "X3 = np.random.uniform(-100.0, 100, 22)\n",
    "X3 = np.append(X3, [1, 2])\n",
    "Y3 = np.random.uniform(-100.0, 100, 22)\n",
    "Y3 = np.append(Y3, [3, 6])\n",
    "optimum = find_min(X3, Y3)\n",
    "lowest_norm = norm(optimum*X3-Y3, ord=1)\n",
    "print \"\\n\\nMinimum norm is \", lowest_norm, \"Which happens for betha = \", optimum\n",
    "try:\n",
    "    expected = min([norm(item*X3-Y3, ord=1) for item in np.divide(Y3, X3)])\n",
    "    assert_allclose(lowest_norm, expected, 0.01)\n",
    "    print \"\\nPASSED: the answer has less than 1% error\"\n",
    "    print \"{} is approximately equal to expected {}\".format(lowest_norm, expected)\n",
    "\n",
    "except AssertionError:\n",
    "    print \"\\nFAILED: the error is more than 1%\"\n",
    "    print \"found {} but was expecting {}\".format(lowest_norm, expected)"
   ]
  },
  {
   "cell_type": "markdown",
   "metadata": {},
   "source": [
    "#### Testcase 4"
   ]
  },
  {
   "cell_type": "markdown",
   "metadata": {},
   "source": [
    "In this test we try to see if we can survive Zero division. I used numpy divide method to make sure it will handle this. Let's see what happens!"
   ]
  },
  {
   "cell_type": "code",
   "execution_count": 23,
   "metadata": {
    "collapsed": false
   },
   "outputs": [
    {
     "name": "stdout",
     "output_type": "stream",
     "text": [
      "\n",
      "\n",
      "Minimum norm is  2356.87297815 Which happens for betha =  -0.0318223666051\n",
      "\n",
      "PASSED: the answer has less than 1% error\n",
      "2356.87297815 is approximately equal to expected 2340.0623818\n"
     ]
    },
    {
     "name": "stderr",
     "output_type": "stream",
     "text": [
      "c:\\python27\\lib\\site-packages\\ipykernel\\__main__.py:15: RuntimeWarning: divide by zero encountered in divide\n",
      "c:\\python27\\lib\\site-packages\\ipykernel\\__main__.py:9: RuntimeWarning: divide by zero encountered in divide\n",
      "c:\\python27\\lib\\site-packages\\ipykernel\\__main__.py:9: RuntimeWarning: invalid value encountered in multiply\n"
     ]
    }
   ],
   "source": [
    "# Test Case4    ** Zero Division **\n",
    "X4 = np.random.uniform(-100.0, 100, 44)\n",
    "X4 = np.append(X4, [0.0, 0.0])\n",
    "Y4 = np.random.uniform(-100.0, 100, 46)\n",
    "optimum = find_min(X4, Y4)\n",
    "lowest_norm = norm(optimum*X4-Y4, ord=1)\n",
    "print \"\\n\\nMinimum norm is \", lowest_norm, \"Which happens for betha = \", optimum\n",
    "try:\n",
    "    expected = min([norm(item*X4-Y4, ord=1) for item in np.divide(Y4, X4)])\n",
    "    assert_allclose(lowest_norm, expected, 0.01)\n",
    "    print \"\\nPASSED: the answer has less than 1% error\"\n",
    "    print \"{} is approximately equal to expected {}\".format(lowest_norm, expected)\n",
    "\n",
    "except AssertionError:\n",
    "    print \"\\nFAILED: the error is more than 1%\"\n",
    "    print \"found {} but was expecting {}\".format(lowest_norm, expected)"
   ]
  },
  {
   "cell_type": "markdown",
   "metadata": {},
   "source": [
    "We got the warning but it's nothing to worry about."
   ]
  },
  {
   "cell_type": "markdown",
   "metadata": {},
   "source": [
    "You might wonder what if we just find the derivitave of the function with respect to our independant variable and make it equal to zero. Let's call this Sardar's method (the name of the person who asked this question!). This method has the advantage of lower complexity (order n). But it doesn't converge to the answer very accurately. This can be explained with the fact that the function doesn't have derivitave in the vertices. We will plot the function to show what it means at the end. A few examples using this method. "
   ]
  },
  {
   "cell_type": "code",
   "execution_count": 18,
   "metadata": {
    "collapsed": true
   },
   "outputs": [],
   "source": [
    "X = np.array([-1.0, 2.0, 3.0])\n",
    "Y = np.array([4, 5, 6])"
   ]
  },
  {
   "cell_type": "code",
   "execution_count": 19,
   "metadata": {
    "collapsed": false
   },
   "outputs": [
    {
     "data": {
      "text/plain": [
       "(2.0, 7.0)"
      ]
     },
     "execution_count": 19,
     "metadata": {},
     "output_type": "execute_result"
    }
   ],
   "source": [
    "opt_beta = find_min(X, Y)\n",
    "lowest_norm = norm(opt_beta*X-Y, ord=1)\n",
    "opt_beta, lowest_norm"
   ]
  },
  {
   "cell_type": "code",
   "execution_count": 20,
   "metadata": {
    "collapsed": false
   },
   "outputs": [
    {
     "data": {
      "text/plain": [
       "(1.7142857142857142, 8.1428571428571441)"
      ]
     },
     "execution_count": 20,
     "metadata": {},
     "output_type": "execute_result"
    }
   ],
   "source": [
    "sardar_beta = sum(Y*X)/sum(X**2)\n",
    "sardar_norm = norm(sardar_beta*X-Y, ord=1)\n",
    "sardar_beta, sardar_norm"
   ]
  },
  {
   "cell_type": "code",
   "execution_count": 21,
   "metadata": {
    "collapsed": false
   },
   "outputs": [],
   "source": [
    "\n",
    "betas = np.arange(-2, 5, 0.01)\n",
    "norms = []\n",
    "for item in betas:\n",
    "    norms.append(norm(item*X-Y, ord=1))"
   ]
  },
  {
   "cell_type": "code",
   "execution_count": 22,
   "metadata": {
    "collapsed": false
   },
   "outputs": [
    {
     "data": {
      "text/plain": [
       "[<matplotlib.lines.Line2D at 0xac66588>]"
      ]
     },
     "execution_count": 22,
     "metadata": {},
     "output_type": "execute_result"
    },
    {
     "data": {
      "image/png": "[encoded data removed]",
      "text/plain": [
       "<matplotlib.figure.Figure at 0xaabd748>"
      ]
     },
     "metadata": {},
     "output_type": "display_data"
    }
   ],
   "source": [
    "plt.plot(betas, norms)"
   ]
  }
 ],
 "metadata": {
  "kernelspec": {
   "display_name": "Python 2",
   "language": "python",
   "name": "python2"
  },
  "language_info": {
   "codemirror_mode": {
    "name": "ipython",
    "version": 2
   },
   "file_extension": ".py",
   "mimetype": "text/x-python",
   "name": "python",
   "nbconvert_exporter": "python",
   "pygments_lexer": "ipython2",
   "version": "2.7.11"
  }
 },
 "nbformat": 4,
 "nbformat_minor": 0
}
